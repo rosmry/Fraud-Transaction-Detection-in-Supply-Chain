{
 "cells": [
  {
   "cell_type": "markdown",
   "id": "648534cf",
   "metadata": {},
   "source": [
    "## Project -5 Fraud Detection in Supply chain\n",
    "Fraud detection in the supply chain is an important area of focus for businesses to safeguard their operations, minimize financial losses, and maintain the integrity of their supply chain processes. Fraud can occur at various stages of the supply chain, including procurement, inventory management, transportation, and distribution."
   ]
  },
  {
   "cell_type": "code",
   "execution_count": 1,
   "id": "c49007a6",
   "metadata": {},
   "outputs": [],
   "source": [
    "import numpy as np\n",
    "import pandas as pd\n",
    "import matplotlib.pyplot as plt \n",
    "import seaborn as sns\n",
    "import warnings\n",
    "warnings.filterwarnings(\"ignore\")"
   ]
  },
  {
   "cell_type": "code",
   "execution_count": 2,
   "id": "77ff507a",
   "metadata": {},
   "outputs": [
    {
     "data": {
      "text/html": [
       "<div>\n",
       "<style scoped>\n",
       "    .dataframe tbody tr th:only-of-type {\n",
       "        vertical-align: middle;\n",
       "    }\n",
       "\n",
       "    .dataframe tbody tr th {\n",
       "        vertical-align: top;\n",
       "    }\n",
       "\n",
       "    .dataframe thead th {\n",
       "        text-align: right;\n",
       "    }\n",
       "</style>\n",
       "<table border=\"1\" class=\"dataframe\">\n",
       "  <thead>\n",
       "    <tr style=\"text-align: right;\">\n",
       "      <th></th>\n",
       "      <th>Type</th>\n",
       "      <th>Days for shipping (real)</th>\n",
       "      <th>Days for shipment (scheduled)</th>\n",
       "      <th>Benefit per order</th>\n",
       "      <th>Sales per customer</th>\n",
       "      <th>Delivery Status</th>\n",
       "      <th>Late_delivery_risk</th>\n",
       "      <th>Category Id</th>\n",
       "      <th>Category Name</th>\n",
       "      <th>Customer City</th>\n",
       "      <th>...</th>\n",
       "      <th>Order Zipcode</th>\n",
       "      <th>Product Card Id</th>\n",
       "      <th>Product Category Id</th>\n",
       "      <th>Product Description</th>\n",
       "      <th>Product Image</th>\n",
       "      <th>Product Name</th>\n",
       "      <th>Product Price</th>\n",
       "      <th>Product Status</th>\n",
       "      <th>shipping date (DateOrders)</th>\n",
       "      <th>Shipping Mode</th>\n",
       "    </tr>\n",
       "  </thead>\n",
       "  <tbody>\n",
       "    <tr>\n",
       "      <th>0</th>\n",
       "      <td>DEBIT</td>\n",
       "      <td>3</td>\n",
       "      <td>4</td>\n",
       "      <td>91.250000</td>\n",
       "      <td>314.640015</td>\n",
       "      <td>Advance shipping</td>\n",
       "      <td>0</td>\n",
       "      <td>73</td>\n",
       "      <td>Sporting Goods</td>\n",
       "      <td>Caguas</td>\n",
       "      <td>...</td>\n",
       "      <td>NaN</td>\n",
       "      <td>1360</td>\n",
       "      <td>73</td>\n",
       "      <td>NaN</td>\n",
       "      <td>http://images.acmesports.sports/Smart+watch</td>\n",
       "      <td>Smart watch</td>\n",
       "      <td>327.75</td>\n",
       "      <td>0</td>\n",
       "      <td>02-03-2018 22:56</td>\n",
       "      <td>Standard Class</td>\n",
       "    </tr>\n",
       "    <tr>\n",
       "      <th>1</th>\n",
       "      <td>TRANSFER</td>\n",
       "      <td>5</td>\n",
       "      <td>4</td>\n",
       "      <td>-249.089996</td>\n",
       "      <td>311.359985</td>\n",
       "      <td>Late delivery</td>\n",
       "      <td>1</td>\n",
       "      <td>73</td>\n",
       "      <td>Sporting Goods</td>\n",
       "      <td>Caguas</td>\n",
       "      <td>...</td>\n",
       "      <td>NaN</td>\n",
       "      <td>1360</td>\n",
       "      <td>73</td>\n",
       "      <td>NaN</td>\n",
       "      <td>http://images.acmesports.sports/Smart+watch</td>\n",
       "      <td>Smart watch</td>\n",
       "      <td>327.75</td>\n",
       "      <td>0</td>\n",
       "      <td>1/18/2018 12:27</td>\n",
       "      <td>Standard Class</td>\n",
       "    </tr>\n",
       "    <tr>\n",
       "      <th>2</th>\n",
       "      <td>CASH</td>\n",
       "      <td>4</td>\n",
       "      <td>4</td>\n",
       "      <td>-247.779999</td>\n",
       "      <td>309.720001</td>\n",
       "      <td>Shipping on time</td>\n",
       "      <td>0</td>\n",
       "      <td>73</td>\n",
       "      <td>Sporting Goods</td>\n",
       "      <td>San Jose</td>\n",
       "      <td>...</td>\n",
       "      <td>NaN</td>\n",
       "      <td>1360</td>\n",
       "      <td>73</td>\n",
       "      <td>NaN</td>\n",
       "      <td>http://images.acmesports.sports/Smart+watch</td>\n",
       "      <td>Smart watch</td>\n",
       "      <td>327.75</td>\n",
       "      <td>0</td>\n",
       "      <td>1/17/2018 12:06</td>\n",
       "      <td>Standard Class</td>\n",
       "    </tr>\n",
       "    <tr>\n",
       "      <th>3</th>\n",
       "      <td>DEBIT</td>\n",
       "      <td>3</td>\n",
       "      <td>4</td>\n",
       "      <td>22.860001</td>\n",
       "      <td>304.809998</td>\n",
       "      <td>Advance shipping</td>\n",
       "      <td>0</td>\n",
       "      <td>73</td>\n",
       "      <td>Sporting Goods</td>\n",
       "      <td>Los Angeles</td>\n",
       "      <td>...</td>\n",
       "      <td>NaN</td>\n",
       "      <td>1360</td>\n",
       "      <td>73</td>\n",
       "      <td>NaN</td>\n",
       "      <td>http://images.acmesports.sports/Smart+watch</td>\n",
       "      <td>Smart watch</td>\n",
       "      <td>327.75</td>\n",
       "      <td>0</td>\n",
       "      <td>1/16/2018 11:45</td>\n",
       "      <td>Standard Class</td>\n",
       "    </tr>\n",
       "    <tr>\n",
       "      <th>4</th>\n",
       "      <td>PAYMENT</td>\n",
       "      <td>2</td>\n",
       "      <td>4</td>\n",
       "      <td>134.210007</td>\n",
       "      <td>298.250000</td>\n",
       "      <td>Advance shipping</td>\n",
       "      <td>0</td>\n",
       "      <td>73</td>\n",
       "      <td>Sporting Goods</td>\n",
       "      <td>Caguas</td>\n",
       "      <td>...</td>\n",
       "      <td>NaN</td>\n",
       "      <td>1360</td>\n",
       "      <td>73</td>\n",
       "      <td>NaN</td>\n",
       "      <td>http://images.acmesports.sports/Smart+watch</td>\n",
       "      <td>Smart watch</td>\n",
       "      <td>327.75</td>\n",
       "      <td>0</td>\n",
       "      <td>1/15/2018 11:24</td>\n",
       "      <td>Standard Class</td>\n",
       "    </tr>\n",
       "  </tbody>\n",
       "</table>\n",
       "<p>5 rows × 53 columns</p>\n",
       "</div>"
      ],
      "text/plain": [
       "       Type  Days for shipping (real)  Days for shipment (scheduled)  \\\n",
       "0     DEBIT                         3                              4   \n",
       "1  TRANSFER                         5                              4   \n",
       "2      CASH                         4                              4   \n",
       "3     DEBIT                         3                              4   \n",
       "4   PAYMENT                         2                              4   \n",
       "\n",
       "   Benefit per order  Sales per customer   Delivery Status  \\\n",
       "0          91.250000          314.640015  Advance shipping   \n",
       "1        -249.089996          311.359985     Late delivery   \n",
       "2        -247.779999          309.720001  Shipping on time   \n",
       "3          22.860001          304.809998  Advance shipping   \n",
       "4         134.210007          298.250000  Advance shipping   \n",
       "\n",
       "   Late_delivery_risk  Category Id   Category Name Customer City  ...  \\\n",
       "0                   0           73  Sporting Goods        Caguas  ...   \n",
       "1                   1           73  Sporting Goods        Caguas  ...   \n",
       "2                   0           73  Sporting Goods      San Jose  ...   \n",
       "3                   0           73  Sporting Goods   Los Angeles  ...   \n",
       "4                   0           73  Sporting Goods        Caguas  ...   \n",
       "\n",
       "  Order Zipcode Product Card Id Product Category Id  Product Description  \\\n",
       "0           NaN            1360                  73                  NaN   \n",
       "1           NaN            1360                  73                  NaN   \n",
       "2           NaN            1360                  73                  NaN   \n",
       "3           NaN            1360                  73                  NaN   \n",
       "4           NaN            1360                  73                  NaN   \n",
       "\n",
       "                                  Product Image  Product Name Product Price  \\\n",
       "0  http://images.acmesports.sports/Smart+watch   Smart watch         327.75   \n",
       "1  http://images.acmesports.sports/Smart+watch   Smart watch         327.75   \n",
       "2  http://images.acmesports.sports/Smart+watch   Smart watch         327.75   \n",
       "3  http://images.acmesports.sports/Smart+watch   Smart watch         327.75   \n",
       "4  http://images.acmesports.sports/Smart+watch   Smart watch         327.75   \n",
       "\n",
       "  Product Status shipping date (DateOrders)   Shipping Mode  \n",
       "0              0           02-03-2018 22:56  Standard Class  \n",
       "1              0            1/18/2018 12:27  Standard Class  \n",
       "2              0            1/17/2018 12:06  Standard Class  \n",
       "3              0            1/16/2018 11:45  Standard Class  \n",
       "4              0            1/15/2018 11:24  Standard Class  \n",
       "\n",
       "[5 rows x 53 columns]"
      ]
     },
     "execution_count": 2,
     "metadata": {},
     "output_type": "execute_result"
    }
   ],
   "source": [
    "data = pd.read_csv(\"C:/Users/HP/OneDrive/Documents/InternshipProjects/Datasets/fraud_detection_dataset.csv\",\n",
    "                   encoding = 'unicode_escape')\n",
    "data.head()"
   ]
  },
  {
   "cell_type": "code",
   "execution_count": 3,
   "id": "d730957e",
   "metadata": {},
   "outputs": [
    {
     "data": {
      "text/plain": [
       "(180519, 53)"
      ]
     },
     "execution_count": 3,
     "metadata": {},
     "output_type": "execute_result"
    }
   ],
   "source": [
    "data.shape"
   ]
  },
  {
   "cell_type": "code",
   "execution_count": 4,
   "id": "97adc730",
   "metadata": {},
   "outputs": [
    {
     "name": "stdout",
     "output_type": "stream",
     "text": [
      "<class 'pandas.core.frame.DataFrame'>\n",
      "RangeIndex: 180519 entries, 0 to 180518\n",
      "Data columns (total 53 columns):\n",
      " #   Column                         Non-Null Count   Dtype  \n",
      "---  ------                         --------------   -----  \n",
      " 0   Type                           180519 non-null  object \n",
      " 1   Days for shipping (real)       180519 non-null  int64  \n",
      " 2   Days for shipment (scheduled)  180519 non-null  int64  \n",
      " 3   Benefit per order              180519 non-null  float64\n",
      " 4   Sales per customer             180519 non-null  float64\n",
      " 5   Delivery Status                180519 non-null  object \n",
      " 6   Late_delivery_risk             180519 non-null  int64  \n",
      " 7   Category Id                    180519 non-null  int64  \n",
      " 8   Category Name                  180519 non-null  object \n",
      " 9   Customer City                  180519 non-null  object \n",
      " 10  Customer Country               180519 non-null  object \n",
      " 11  Customer Email                 180519 non-null  object \n",
      " 12  Customer Fname                 180519 non-null  object \n",
      " 13  Customer Id                    180519 non-null  int64  \n",
      " 14  Customer Lname                 180511 non-null  object \n",
      " 15  Customer Password              180519 non-null  object \n",
      " 16  Customer Segment               180519 non-null  object \n",
      " 17  Customer State                 180519 non-null  object \n",
      " 18  Customer Street                180519 non-null  object \n",
      " 19  Customer Zipcode               180516 non-null  float64\n",
      " 20  Department Id                  180519 non-null  int64  \n",
      " 21  Department Name                180519 non-null  object \n",
      " 22  Latitude                       180519 non-null  float64\n",
      " 23  Longitude                      180519 non-null  float64\n",
      " 24  Market                         180519 non-null  object \n",
      " 25  Order City                     180519 non-null  object \n",
      " 26  Order Country                  180519 non-null  object \n",
      " 27  Order Customer Id              180519 non-null  int64  \n",
      " 28  order date (DateOrders)        180519 non-null  object \n",
      " 29  Order Id                       180519 non-null  int64  \n",
      " 30  Order Item Cardprod Id         180519 non-null  int64  \n",
      " 31  Order Item Discount            180519 non-null  float64\n",
      " 32  Order Item Discount Rate       180519 non-null  float64\n",
      " 33  Order Item Id                  180519 non-null  int64  \n",
      " 34  Order Item Product Price       180519 non-null  float64\n",
      " 35  Order Item Profit Ratio        180519 non-null  float64\n",
      " 36  Order Item Quantity            180519 non-null  int64  \n",
      " 37  Sales                          180519 non-null  float64\n",
      " 38  Order Item Total               180519 non-null  float64\n",
      " 39  Order Profit Per Order         180519 non-null  float64\n",
      " 40  Order Region                   180519 non-null  object \n",
      " 41  Order State                    180519 non-null  object \n",
      " 42  Order Status                   180519 non-null  object \n",
      " 43  Order Zipcode                  24840 non-null   float64\n",
      " 44  Product Card Id                180519 non-null  int64  \n",
      " 45  Product Category Id            180519 non-null  int64  \n",
      " 46  Product Description            0 non-null       float64\n",
      " 47  Product Image                  180519 non-null  object \n",
      " 48  Product Name                   180519 non-null  object \n",
      " 49  Product Price                  180519 non-null  float64\n",
      " 50  Product Status                 180519 non-null  int64  \n",
      " 51  shipping date (DateOrders)     180519 non-null  object \n",
      " 52  Shipping Mode                  180519 non-null  object \n",
      "dtypes: float64(15), int64(14), object(24)\n",
      "memory usage: 73.0+ MB\n"
     ]
    }
   ],
   "source": [
    "data.info()"
   ]
  },
  {
   "cell_type": "code",
   "execution_count": 5,
   "id": "955446be",
   "metadata": {},
   "outputs": [],
   "source": [
    "data['Total_price']=data['Order Item Quantity']*data['Order Item Total']"
   ]
  },
  {
   "cell_type": "code",
   "execution_count": 6,
   "id": "d1a4b2ff",
   "metadata": {},
   "outputs": [],
   "source": [
    "data['order_yr']= pd.DatetimeIndex(data['order date (DateOrders)']).year\n",
    "data['order_month'] = pd.DatetimeIndex(data['order date (DateOrders)']).month\n",
    "data['order_day'] = pd.DatetimeIndex(data['order date (DateOrders)']).weekday\n",
    "data['order_hour'] = pd.DatetimeIndex(data['order date (DateOrders)']).hour"
   ]
  },
  {
   "cell_type": "code",
   "execution_count": 7,
   "id": "7722240b",
   "metadata": {},
   "outputs": [
    {
     "data": {
      "text/plain": [
       "Type                                  0\n",
       "Days for shipping (real)              0\n",
       "Days for shipment (scheduled)         0\n",
       "Benefit per order                     0\n",
       "Sales per customer                    0\n",
       "Delivery Status                       0\n",
       "Late_delivery_risk                    0\n",
       "Category Id                           0\n",
       "Category Name                         0\n",
       "Customer City                         0\n",
       "Customer Country                      0\n",
       "Customer Email                        0\n",
       "Customer Fname                        0\n",
       "Customer Id                           0\n",
       "Customer Lname                        8\n",
       "Customer Password                     0\n",
       "Customer Segment                      0\n",
       "Customer State                        0\n",
       "Customer Street                       0\n",
       "Customer Zipcode                      3\n",
       "Department Id                         0\n",
       "Department Name                       0\n",
       "Latitude                              0\n",
       "Longitude                             0\n",
       "Market                                0\n",
       "Order City                            0\n",
       "Order Country                         0\n",
       "Order Customer Id                     0\n",
       "order date (DateOrders)               0\n",
       "Order Id                              0\n",
       "Order Item Cardprod Id                0\n",
       "Order Item Discount                   0\n",
       "Order Item Discount Rate              0\n",
       "Order Item Id                         0\n",
       "Order Item Product Price              0\n",
       "Order Item Profit Ratio               0\n",
       "Order Item Quantity                   0\n",
       "Sales                                 0\n",
       "Order Item Total                      0\n",
       "Order Profit Per Order                0\n",
       "Order Region                          0\n",
       "Order State                           0\n",
       "Order Status                          0\n",
       "Order Zipcode                    155679\n",
       "Product Card Id                       0\n",
       "Product Category Id                   0\n",
       "Product Description              180519\n",
       "Product Image                         0\n",
       "Product Name                          0\n",
       "Product Price                         0\n",
       "Product Status                        0\n",
       "shipping date (DateOrders)            0\n",
       "Shipping Mode                         0\n",
       "Total_price                           0\n",
       "order_yr                              0\n",
       "order_month                           0\n",
       "order_day                             0\n",
       "order_hour                            0\n",
       "dtype: int64"
      ]
     },
     "execution_count": 7,
     "metadata": {},
     "output_type": "execute_result"
    }
   ],
   "source": [
    "data.isnull().sum()"
   ]
  },
  {
   "cell_type": "code",
   "execution_count": 8,
   "id": "ff07cb7c",
   "metadata": {},
   "outputs": [
    {
     "data": {
      "text/html": [
       "<div>\n",
       "<style scoped>\n",
       "    .dataframe tbody tr th:only-of-type {\n",
       "        vertical-align: middle;\n",
       "    }\n",
       "\n",
       "    .dataframe tbody tr th {\n",
       "        vertical-align: top;\n",
       "    }\n",
       "\n",
       "    .dataframe thead th {\n",
       "        text-align: right;\n",
       "    }\n",
       "</style>\n",
       "<table border=\"1\" class=\"dataframe\">\n",
       "  <thead>\n",
       "    <tr style=\"text-align: right;\">\n",
       "      <th></th>\n",
       "      <th>Type</th>\n",
       "      <th>Days for shipping (real)</th>\n",
       "      <th>Days for shipment (scheduled)</th>\n",
       "      <th>Benefit per order</th>\n",
       "      <th>Delivery Status</th>\n",
       "      <th>Late_delivery_risk</th>\n",
       "      <th>Category Name</th>\n",
       "      <th>Customer City</th>\n",
       "      <th>Customer Country</th>\n",
       "      <th>Customer Segment</th>\n",
       "      <th>...</th>\n",
       "      <th>Order State</th>\n",
       "      <th>Order Status</th>\n",
       "      <th>Product Name</th>\n",
       "      <th>Product Price</th>\n",
       "      <th>Shipping Mode</th>\n",
       "      <th>Total_price</th>\n",
       "      <th>order_yr</th>\n",
       "      <th>order_month</th>\n",
       "      <th>order_day</th>\n",
       "      <th>order_hour</th>\n",
       "    </tr>\n",
       "  </thead>\n",
       "  <tbody>\n",
       "    <tr>\n",
       "      <th>0</th>\n",
       "      <td>DEBIT</td>\n",
       "      <td>3</td>\n",
       "      <td>4</td>\n",
       "      <td>91.250000</td>\n",
       "      <td>Advance shipping</td>\n",
       "      <td>0</td>\n",
       "      <td>Sporting Goods</td>\n",
       "      <td>Caguas</td>\n",
       "      <td>Puerto Rico</td>\n",
       "      <td>Consumer</td>\n",
       "      <td>...</td>\n",
       "      <td>Java Occidental</td>\n",
       "      <td>COMPLETE</td>\n",
       "      <td>Smart watch</td>\n",
       "      <td>327.75</td>\n",
       "      <td>Standard Class</td>\n",
       "      <td>314.640015</td>\n",
       "      <td>2018</td>\n",
       "      <td>1</td>\n",
       "      <td>2</td>\n",
       "      <td>22</td>\n",
       "    </tr>\n",
       "    <tr>\n",
       "      <th>1</th>\n",
       "      <td>TRANSFER</td>\n",
       "      <td>5</td>\n",
       "      <td>4</td>\n",
       "      <td>-249.089996</td>\n",
       "      <td>Late delivery</td>\n",
       "      <td>1</td>\n",
       "      <td>Sporting Goods</td>\n",
       "      <td>Caguas</td>\n",
       "      <td>Puerto Rico</td>\n",
       "      <td>Consumer</td>\n",
       "      <td>...</td>\n",
       "      <td>Rajastán</td>\n",
       "      <td>PENDING</td>\n",
       "      <td>Smart watch</td>\n",
       "      <td>327.75</td>\n",
       "      <td>Standard Class</td>\n",
       "      <td>311.359985</td>\n",
       "      <td>2018</td>\n",
       "      <td>1</td>\n",
       "      <td>5</td>\n",
       "      <td>12</td>\n",
       "    </tr>\n",
       "    <tr>\n",
       "      <th>2</th>\n",
       "      <td>CASH</td>\n",
       "      <td>4</td>\n",
       "      <td>4</td>\n",
       "      <td>-247.779999</td>\n",
       "      <td>Shipping on time</td>\n",
       "      <td>0</td>\n",
       "      <td>Sporting Goods</td>\n",
       "      <td>San Jose</td>\n",
       "      <td>EE. UU.</td>\n",
       "      <td>Consumer</td>\n",
       "      <td>...</td>\n",
       "      <td>Rajastán</td>\n",
       "      <td>CLOSED</td>\n",
       "      <td>Smart watch</td>\n",
       "      <td>327.75</td>\n",
       "      <td>Standard Class</td>\n",
       "      <td>309.720001</td>\n",
       "      <td>2018</td>\n",
       "      <td>1</td>\n",
       "      <td>5</td>\n",
       "      <td>12</td>\n",
       "    </tr>\n",
       "    <tr>\n",
       "      <th>3</th>\n",
       "      <td>DEBIT</td>\n",
       "      <td>3</td>\n",
       "      <td>4</td>\n",
       "      <td>22.860001</td>\n",
       "      <td>Advance shipping</td>\n",
       "      <td>0</td>\n",
       "      <td>Sporting Goods</td>\n",
       "      <td>Los Angeles</td>\n",
       "      <td>EE. UU.</td>\n",
       "      <td>Home Office</td>\n",
       "      <td>...</td>\n",
       "      <td>Queensland</td>\n",
       "      <td>COMPLETE</td>\n",
       "      <td>Smart watch</td>\n",
       "      <td>327.75</td>\n",
       "      <td>Standard Class</td>\n",
       "      <td>304.809998</td>\n",
       "      <td>2018</td>\n",
       "      <td>1</td>\n",
       "      <td>5</td>\n",
       "      <td>11</td>\n",
       "    </tr>\n",
       "    <tr>\n",
       "      <th>4</th>\n",
       "      <td>PAYMENT</td>\n",
       "      <td>2</td>\n",
       "      <td>4</td>\n",
       "      <td>134.210007</td>\n",
       "      <td>Advance shipping</td>\n",
       "      <td>0</td>\n",
       "      <td>Sporting Goods</td>\n",
       "      <td>Caguas</td>\n",
       "      <td>Puerto Rico</td>\n",
       "      <td>Corporate</td>\n",
       "      <td>...</td>\n",
       "      <td>Queensland</td>\n",
       "      <td>PENDING_PAYMENT</td>\n",
       "      <td>Smart watch</td>\n",
       "      <td>327.75</td>\n",
       "      <td>Standard Class</td>\n",
       "      <td>298.250000</td>\n",
       "      <td>2018</td>\n",
       "      <td>1</td>\n",
       "      <td>5</td>\n",
       "      <td>11</td>\n",
       "    </tr>\n",
       "  </tbody>\n",
       "</table>\n",
       "<p>5 rows × 28 columns</p>\n",
       "</div>"
      ],
      "text/plain": [
       "       Type  Days for shipping (real)  Days for shipment (scheduled)  \\\n",
       "0     DEBIT                         3                              4   \n",
       "1  TRANSFER                         5                              4   \n",
       "2      CASH                         4                              4   \n",
       "3     DEBIT                         3                              4   \n",
       "4   PAYMENT                         2                              4   \n",
       "\n",
       "   Benefit per order   Delivery Status  Late_delivery_risk   Category Name  \\\n",
       "0          91.250000  Advance shipping                   0  Sporting Goods   \n",
       "1        -249.089996     Late delivery                   1  Sporting Goods   \n",
       "2        -247.779999  Shipping on time                   0  Sporting Goods   \n",
       "3          22.860001  Advance shipping                   0  Sporting Goods   \n",
       "4         134.210007  Advance shipping                   0  Sporting Goods   \n",
       "\n",
       "  Customer City Customer Country Customer Segment  ...      Order State  \\\n",
       "0        Caguas      Puerto Rico         Consumer  ...  Java Occidental   \n",
       "1        Caguas      Puerto Rico         Consumer  ...         Rajastán   \n",
       "2      San Jose          EE. UU.         Consumer  ...         Rajastán   \n",
       "3   Los Angeles          EE. UU.      Home Office  ...       Queensland   \n",
       "4        Caguas      Puerto Rico        Corporate  ...       Queensland   \n",
       "\n",
       "      Order Status  Product Name Product Price   Shipping Mode  Total_price  \\\n",
       "0         COMPLETE  Smart watch         327.75  Standard Class   314.640015   \n",
       "1          PENDING  Smart watch         327.75  Standard Class   311.359985   \n",
       "2           CLOSED  Smart watch         327.75  Standard Class   309.720001   \n",
       "3         COMPLETE  Smart watch         327.75  Standard Class   304.809998   \n",
       "4  PENDING_PAYMENT  Smart watch         327.75  Standard Class   298.250000   \n",
       "\n",
       "   order_yr order_month order_day order_hour  \n",
       "0      2018           1         2         22  \n",
       "1      2018           1         5         12  \n",
       "2      2018           1         5         12  \n",
       "3      2018           1         5         11  \n",
       "4      2018           1         5         11  \n",
       "\n",
       "[5 rows x 28 columns]"
      ]
     },
     "execution_count": 8,
     "metadata": {},
     "output_type": "execute_result"
    }
   ],
   "source": [
    "df = data.drop(['Sales per customer','Category Id','Customer Email','Customer Fname','Customer Id',\n",
    "                'Customer Lname','Customer Street','Customer Zipcode','Customer Password','Department Id','Latitude',\n",
    "                'Longitude','Order Customer Id','order date (DateOrders)','Order Id','Order Item Cardprod Id',\n",
    "                'Order Item Discount','Order Item Id','Order Item Product Price','Order Item Profit Ratio',\n",
    "                'Sales','Order Item Total','Order Profit Per Order','Product Status','Product Description','Product Card Id',\n",
    "                'Product Category Id','Product Image','Order Zipcode','shipping date (DateOrders)'],axis='columns')\n",
    "df.head()"
   ]
  },
  {
   "cell_type": "code",
   "execution_count": 9,
   "id": "f238966f",
   "metadata": {},
   "outputs": [
    {
     "name": "stdout",
     "output_type": "stream",
     "text": [
      "<class 'pandas.core.frame.DataFrame'>\n",
      "RangeIndex: 180519 entries, 0 to 180518\n",
      "Data columns (total 28 columns):\n",
      " #   Column                         Non-Null Count   Dtype  \n",
      "---  ------                         --------------   -----  \n",
      " 0   Type                           180519 non-null  object \n",
      " 1   Days for shipping (real)       180519 non-null  int64  \n",
      " 2   Days for shipment (scheduled)  180519 non-null  int64  \n",
      " 3   Benefit per order              180519 non-null  float64\n",
      " 4   Delivery Status                180519 non-null  object \n",
      " 5   Late_delivery_risk             180519 non-null  int64  \n",
      " 6   Category Name                  180519 non-null  object \n",
      " 7   Customer City                  180519 non-null  object \n",
      " 8   Customer Country               180519 non-null  object \n",
      " 9   Customer Segment               180519 non-null  object \n",
      " 10  Customer State                 180519 non-null  object \n",
      " 11  Department Name                180519 non-null  object \n",
      " 12  Market                         180519 non-null  object \n",
      " 13  Order City                     180519 non-null  object \n",
      " 14  Order Country                  180519 non-null  object \n",
      " 15  Order Item Discount Rate       180519 non-null  float64\n",
      " 16  Order Item Quantity            180519 non-null  int64  \n",
      " 17  Order Region                   180519 non-null  object \n",
      " 18  Order State                    180519 non-null  object \n",
      " 19  Order Status                   180519 non-null  object \n",
      " 20  Product Name                   180519 non-null  object \n",
      " 21  Product Price                  180519 non-null  float64\n",
      " 22  Shipping Mode                  180519 non-null  object \n",
      " 23  Total_price                    180519 non-null  float64\n",
      " 24  order_yr                       180519 non-null  int64  \n",
      " 25  order_month                    180519 non-null  int64  \n",
      " 26  order_day                      180519 non-null  int64  \n",
      " 27  order_hour                     180519 non-null  int64  \n",
      "dtypes: float64(4), int64(8), object(16)\n",
      "memory usage: 38.6+ MB\n"
     ]
    }
   ],
   "source": [
    "df.info()"
   ]
  },
  {
   "cell_type": "code",
   "execution_count": 10,
   "id": "8d9a60bb",
   "metadata": {},
   "outputs": [
    {
     "data": {
      "text/html": [
       "<div>\n",
       "<style scoped>\n",
       "    .dataframe tbody tr th:only-of-type {\n",
       "        vertical-align: middle;\n",
       "    }\n",
       "\n",
       "    .dataframe tbody tr th {\n",
       "        vertical-align: top;\n",
       "    }\n",
       "\n",
       "    .dataframe thead th {\n",
       "        text-align: right;\n",
       "    }\n",
       "</style>\n",
       "<table border=\"1\" class=\"dataframe\">\n",
       "  <thead>\n",
       "    <tr style=\"text-align: right;\">\n",
       "      <th></th>\n",
       "      <th>count</th>\n",
       "      <th>mean</th>\n",
       "      <th>std</th>\n",
       "      <th>min</th>\n",
       "      <th>25%</th>\n",
       "      <th>50%</th>\n",
       "      <th>75%</th>\n",
       "      <th>max</th>\n",
       "    </tr>\n",
       "  </thead>\n",
       "  <tbody>\n",
       "    <tr>\n",
       "      <th>Days for shipping (real)</th>\n",
       "      <td>180519.0</td>\n",
       "      <td>3.497654</td>\n",
       "      <td>1.623722</td>\n",
       "      <td>0.00000</td>\n",
       "      <td>2.000000</td>\n",
       "      <td>3.000000</td>\n",
       "      <td>5.000000</td>\n",
       "      <td>6.000000</td>\n",
       "    </tr>\n",
       "    <tr>\n",
       "      <th>Days for shipment (scheduled)</th>\n",
       "      <td>180519.0</td>\n",
       "      <td>2.931847</td>\n",
       "      <td>1.374449</td>\n",
       "      <td>0.00000</td>\n",
       "      <td>2.000000</td>\n",
       "      <td>4.000000</td>\n",
       "      <td>4.000000</td>\n",
       "      <td>4.000000</td>\n",
       "    </tr>\n",
       "    <tr>\n",
       "      <th>Benefit per order</th>\n",
       "      <td>180519.0</td>\n",
       "      <td>21.974989</td>\n",
       "      <td>104.433526</td>\n",
       "      <td>-4274.97998</td>\n",
       "      <td>7.000000</td>\n",
       "      <td>31.520000</td>\n",
       "      <td>64.800003</td>\n",
       "      <td>911.799988</td>\n",
       "    </tr>\n",
       "    <tr>\n",
       "      <th>Late_delivery_risk</th>\n",
       "      <td>180519.0</td>\n",
       "      <td>0.548291</td>\n",
       "      <td>0.497664</td>\n",
       "      <td>0.00000</td>\n",
       "      <td>0.000000</td>\n",
       "      <td>1.000000</td>\n",
       "      <td>1.000000</td>\n",
       "      <td>1.000000</td>\n",
       "    </tr>\n",
       "    <tr>\n",
       "      <th>Order Item Discount Rate</th>\n",
       "      <td>180519.0</td>\n",
       "      <td>0.101668</td>\n",
       "      <td>0.070415</td>\n",
       "      <td>0.00000</td>\n",
       "      <td>0.040000</td>\n",
       "      <td>0.100000</td>\n",
       "      <td>0.160000</td>\n",
       "      <td>0.250000</td>\n",
       "    </tr>\n",
       "    <tr>\n",
       "      <th>Order Item Quantity</th>\n",
       "      <td>180519.0</td>\n",
       "      <td>2.127638</td>\n",
       "      <td>1.453451</td>\n",
       "      <td>1.00000</td>\n",
       "      <td>1.000000</td>\n",
       "      <td>1.000000</td>\n",
       "      <td>3.000000</td>\n",
       "      <td>5.000000</td>\n",
       "    </tr>\n",
       "    <tr>\n",
       "      <th>Product Price</th>\n",
       "      <td>180519.0</td>\n",
       "      <td>141.232550</td>\n",
       "      <td>139.732492</td>\n",
       "      <td>9.99000</td>\n",
       "      <td>50.000000</td>\n",
       "      <td>59.990002</td>\n",
       "      <td>199.990005</td>\n",
       "      <td>1999.989990</td>\n",
       "    </tr>\n",
       "    <tr>\n",
       "      <th>Total_price</th>\n",
       "      <td>180519.0</td>\n",
       "      <td>407.978685</td>\n",
       "      <td>418.505725</td>\n",
       "      <td>7.49000</td>\n",
       "      <td>127.389999</td>\n",
       "      <td>263.980011</td>\n",
       "      <td>469.710022</td>\n",
       "      <td>2499.750061</td>\n",
       "    </tr>\n",
       "    <tr>\n",
       "      <th>order_yr</th>\n",
       "      <td>180519.0</td>\n",
       "      <td>2015.971150</td>\n",
       "      <td>0.829429</td>\n",
       "      <td>2015.00000</td>\n",
       "      <td>2015.000000</td>\n",
       "      <td>2016.000000</td>\n",
       "      <td>2017.000000</td>\n",
       "      <td>2018.000000</td>\n",
       "    </tr>\n",
       "    <tr>\n",
       "      <th>order_month</th>\n",
       "      <td>180519.0</td>\n",
       "      <td>6.235449</td>\n",
       "      <td>3.403571</td>\n",
       "      <td>1.00000</td>\n",
       "      <td>3.000000</td>\n",
       "      <td>6.000000</td>\n",
       "      <td>9.000000</td>\n",
       "      <td>12.000000</td>\n",
       "    </tr>\n",
       "    <tr>\n",
       "      <th>order_day</th>\n",
       "      <td>180519.0</td>\n",
       "      <td>3.007622</td>\n",
       "      <td>2.001536</td>\n",
       "      <td>0.00000</td>\n",
       "      <td>1.000000</td>\n",
       "      <td>3.000000</td>\n",
       "      <td>5.000000</td>\n",
       "      <td>6.000000</td>\n",
       "    </tr>\n",
       "    <tr>\n",
       "      <th>order_hour</th>\n",
       "      <td>180519.0</td>\n",
       "      <td>11.483689</td>\n",
       "      <td>6.923006</td>\n",
       "      <td>0.00000</td>\n",
       "      <td>5.000000</td>\n",
       "      <td>11.000000</td>\n",
       "      <td>17.000000</td>\n",
       "      <td>23.000000</td>\n",
       "    </tr>\n",
       "  </tbody>\n",
       "</table>\n",
       "</div>"
      ],
      "text/plain": [
       "                                  count         mean         std         min  \\\n",
       "Days for shipping (real)       180519.0     3.497654    1.623722     0.00000   \n",
       "Days for shipment (scheduled)  180519.0     2.931847    1.374449     0.00000   \n",
       "Benefit per order              180519.0    21.974989  104.433526 -4274.97998   \n",
       "Late_delivery_risk             180519.0     0.548291    0.497664     0.00000   \n",
       "Order Item Discount Rate       180519.0     0.101668    0.070415     0.00000   \n",
       "Order Item Quantity            180519.0     2.127638    1.453451     1.00000   \n",
       "Product Price                  180519.0   141.232550  139.732492     9.99000   \n",
       "Total_price                    180519.0   407.978685  418.505725     7.49000   \n",
       "order_yr                       180519.0  2015.971150    0.829429  2015.00000   \n",
       "order_month                    180519.0     6.235449    3.403571     1.00000   \n",
       "order_day                      180519.0     3.007622    2.001536     0.00000   \n",
       "order_hour                     180519.0    11.483689    6.923006     0.00000   \n",
       "\n",
       "                                       25%          50%          75%  \\\n",
       "Days for shipping (real)          2.000000     3.000000     5.000000   \n",
       "Days for shipment (scheduled)     2.000000     4.000000     4.000000   \n",
       "Benefit per order                 7.000000    31.520000    64.800003   \n",
       "Late_delivery_risk                0.000000     1.000000     1.000000   \n",
       "Order Item Discount Rate          0.040000     0.100000     0.160000   \n",
       "Order Item Quantity               1.000000     1.000000     3.000000   \n",
       "Product Price                    50.000000    59.990002   199.990005   \n",
       "Total_price                     127.389999   263.980011   469.710022   \n",
       "order_yr                       2015.000000  2016.000000  2017.000000   \n",
       "order_month                       3.000000     6.000000     9.000000   \n",
       "order_day                         1.000000     3.000000     5.000000   \n",
       "order_hour                        5.000000    11.000000    17.000000   \n",
       "\n",
       "                                       max  \n",
       "Days for shipping (real)          6.000000  \n",
       "Days for shipment (scheduled)     4.000000  \n",
       "Benefit per order               911.799988  \n",
       "Late_delivery_risk                1.000000  \n",
       "Order Item Discount Rate          0.250000  \n",
       "Order Item Quantity               5.000000  \n",
       "Product Price                  1999.989990  \n",
       "Total_price                    2499.750061  \n",
       "order_yr                       2018.000000  \n",
       "order_month                      12.000000  \n",
       "order_day                         6.000000  \n",
       "order_hour                       23.000000  "
      ]
     },
     "execution_count": 10,
     "metadata": {},
     "output_type": "execute_result"
    }
   ],
   "source": [
    "num_cols = df.select_dtypes(include = ['float64','int64'])\n",
    "num_cols.describe().T"
   ]
  },
  {
   "cell_type": "code",
   "execution_count": 11,
   "id": "f91fc5ad",
   "metadata": {},
   "outputs": [
    {
     "data": {
      "text/html": [
       "<div>\n",
       "<style scoped>\n",
       "    .dataframe tbody tr th:only-of-type {\n",
       "        vertical-align: middle;\n",
       "    }\n",
       "\n",
       "    .dataframe tbody tr th {\n",
       "        vertical-align: top;\n",
       "    }\n",
       "\n",
       "    .dataframe thead th {\n",
       "        text-align: right;\n",
       "    }\n",
       "</style>\n",
       "<table border=\"1\" class=\"dataframe\">\n",
       "  <thead>\n",
       "    <tr style=\"text-align: right;\">\n",
       "      <th></th>\n",
       "      <th>count</th>\n",
       "      <th>unique</th>\n",
       "      <th>top</th>\n",
       "      <th>freq</th>\n",
       "    </tr>\n",
       "  </thead>\n",
       "  <tbody>\n",
       "    <tr>\n",
       "      <th>Type</th>\n",
       "      <td>180519</td>\n",
       "      <td>4</td>\n",
       "      <td>DEBIT</td>\n",
       "      <td>69295</td>\n",
       "    </tr>\n",
       "    <tr>\n",
       "      <th>Delivery Status</th>\n",
       "      <td>180519</td>\n",
       "      <td>4</td>\n",
       "      <td>Late delivery</td>\n",
       "      <td>98977</td>\n",
       "    </tr>\n",
       "    <tr>\n",
       "      <th>Category Name</th>\n",
       "      <td>180519</td>\n",
       "      <td>50</td>\n",
       "      <td>Cleats</td>\n",
       "      <td>24551</td>\n",
       "    </tr>\n",
       "    <tr>\n",
       "      <th>Customer City</th>\n",
       "      <td>180519</td>\n",
       "      <td>563</td>\n",
       "      <td>Caguas</td>\n",
       "      <td>66770</td>\n",
       "    </tr>\n",
       "    <tr>\n",
       "      <th>Customer Country</th>\n",
       "      <td>180519</td>\n",
       "      <td>2</td>\n",
       "      <td>EE. UU.</td>\n",
       "      <td>111146</td>\n",
       "    </tr>\n",
       "    <tr>\n",
       "      <th>Customer Segment</th>\n",
       "      <td>180519</td>\n",
       "      <td>3</td>\n",
       "      <td>Consumer</td>\n",
       "      <td>93504</td>\n",
       "    </tr>\n",
       "    <tr>\n",
       "      <th>Customer State</th>\n",
       "      <td>180519</td>\n",
       "      <td>46</td>\n",
       "      <td>PR</td>\n",
       "      <td>69373</td>\n",
       "    </tr>\n",
       "    <tr>\n",
       "      <th>Department Name</th>\n",
       "      <td>180519</td>\n",
       "      <td>11</td>\n",
       "      <td>Fan Shop</td>\n",
       "      <td>66861</td>\n",
       "    </tr>\n",
       "    <tr>\n",
       "      <th>Market</th>\n",
       "      <td>180519</td>\n",
       "      <td>5</td>\n",
       "      <td>LATAM</td>\n",
       "      <td>51594</td>\n",
       "    </tr>\n",
       "    <tr>\n",
       "      <th>Order City</th>\n",
       "      <td>180519</td>\n",
       "      <td>3597</td>\n",
       "      <td>Santo Domingo</td>\n",
       "      <td>2211</td>\n",
       "    </tr>\n",
       "    <tr>\n",
       "      <th>Order Country</th>\n",
       "      <td>180519</td>\n",
       "      <td>164</td>\n",
       "      <td>Estados Unidos</td>\n",
       "      <td>24840</td>\n",
       "    </tr>\n",
       "    <tr>\n",
       "      <th>Order Region</th>\n",
       "      <td>180519</td>\n",
       "      <td>23</td>\n",
       "      <td>Central America</td>\n",
       "      <td>28341</td>\n",
       "    </tr>\n",
       "    <tr>\n",
       "      <th>Order State</th>\n",
       "      <td>180519</td>\n",
       "      <td>1089</td>\n",
       "      <td>Inglaterra</td>\n",
       "      <td>6722</td>\n",
       "    </tr>\n",
       "    <tr>\n",
       "      <th>Order Status</th>\n",
       "      <td>180519</td>\n",
       "      <td>9</td>\n",
       "      <td>COMPLETE</td>\n",
       "      <td>59491</td>\n",
       "    </tr>\n",
       "    <tr>\n",
       "      <th>Product Name</th>\n",
       "      <td>180519</td>\n",
       "      <td>118</td>\n",
       "      <td>Perfect Fitness Perfect Rip Deck</td>\n",
       "      <td>24515</td>\n",
       "    </tr>\n",
       "    <tr>\n",
       "      <th>Shipping Mode</th>\n",
       "      <td>180519</td>\n",
       "      <td>4</td>\n",
       "      <td>Standard Class</td>\n",
       "      <td>107752</td>\n",
       "    </tr>\n",
       "  </tbody>\n",
       "</table>\n",
       "</div>"
      ],
      "text/plain": [
       "                   count unique                               top    freq\n",
       "Type              180519      4                             DEBIT   69295\n",
       "Delivery Status   180519      4                     Late delivery   98977\n",
       "Category Name     180519     50                            Cleats   24551\n",
       "Customer City     180519    563                            Caguas   66770\n",
       "Customer Country  180519      2                           EE. UU.  111146\n",
       "Customer Segment  180519      3                          Consumer   93504\n",
       "Customer State    180519     46                                PR   69373\n",
       "Department Name   180519     11                          Fan Shop   66861\n",
       "Market            180519      5                             LATAM   51594\n",
       "Order City        180519   3597                     Santo Domingo    2211\n",
       "Order Country     180519    164                    Estados Unidos   24840\n",
       "Order Region      180519     23                   Central America   28341\n",
       "Order State       180519   1089                        Inglaterra    6722\n",
       "Order Status      180519      9                          COMPLETE   59491\n",
       "Product Name      180519    118  Perfect Fitness Perfect Rip Deck   24515\n",
       "Shipping Mode     180519      4                    Standard Class  107752"
      ]
     },
     "execution_count": 11,
     "metadata": {},
     "output_type": "execute_result"
    }
   ],
   "source": [
    "cat_cols = df.select_dtypes(include = 'object')\n",
    "cat_cols.describe().T"
   ]
  },
  {
   "cell_type": "code",
   "execution_count": 12,
   "id": "3dd80f5e",
   "metadata": {},
   "outputs": [
    {
     "data": {
      "text/plain": [
       "0         False\n",
       "1         False\n",
       "2         False\n",
       "3         False\n",
       "4         False\n",
       "          ...  \n",
       "180514    False\n",
       "180515    False\n",
       "180516    False\n",
       "180517    False\n",
       "180518    False\n",
       "Length: 180519, dtype: bool"
      ]
     },
     "execution_count": 12,
     "metadata": {},
     "output_type": "execute_result"
    }
   ],
   "source": [
    "s= df.duplicated()\n",
    "s"
   ]
  },
  {
   "cell_type": "code",
   "execution_count": 13,
   "id": "fbb977cc",
   "metadata": {},
   "outputs": [
    {
     "data": {
      "image/png": "[encoded data removed]",
      "text/plain": [
       "<Figure size 1800x720 with 1 Axes>"
      ]
     },
     "metadata": {
      "needs_background": "light"
     },
     "output_type": "display_data"
    }
   ],
   "source": [
    "plt.figure(figsize=(25,10))\n",
    "sns.boxplot(data = num_cols)\n",
    "plt.show()"
   ]
  },
  {
   "cell_type": "code",
   "execution_count": 14,
   "id": "5485d457",
   "metadata": {},
   "outputs": [],
   "source": [
    "from scipy.stats.mstats import winsorize\n",
    "# handling outliers using winsorize method\n",
    "for col in df[['Benefit per order','Product Price','Total_price']]:\n",
    "    df[col] = winsorize(df[col],limits=[0.02,0.05]) "
   ]
  },
  {
   "cell_type": "code",
   "execution_count": 15,
   "id": "6f16dfbc",
   "metadata": {},
   "outputs": [
    {
     "data": {
      "image/png": "[encoded data removed]",
      "text/plain": [
       "<Figure size 1800x720 with 1 Axes>"
      ]
     },
     "metadata": {
      "needs_background": "light"
     },
     "output_type": "display_data"
    }
   ],
   "source": [
    "plt.figure(figsize=(25,10))\n",
    "sns.boxplot(data = df.select_dtypes(exclude=['object']))\n",
    "plt.show()"
   ]
  },
  {
   "cell_type": "code",
   "execution_count": 16,
   "id": "ff11f82a",
   "metadata": {},
   "outputs": [
    {
     "data": {
      "text/plain": [
       "False"
      ]
     },
     "execution_count": 16,
     "metadata": {},
     "output_type": "execute_result"
    }
   ],
   "source": [
    "df.isnull().values.any()"
   ]
  },
  {
   "cell_type": "code",
   "execution_count": 17,
   "id": "f978d628",
   "metadata": {},
   "outputs": [
    {
     "data": {
      "text/plain": [
       "Type                             0\n",
       "Days for shipping (real)         0\n",
       "Days for shipment (scheduled)    0\n",
       "Benefit per order                0\n",
       "Delivery Status                  0\n",
       "Late_delivery_risk               0\n",
       "Category Name                    0\n",
       "Customer City                    0\n",
       "Customer Country                 0\n",
       "Customer Segment                 0\n",
       "Customer State                   0\n",
       "Department Name                  0\n",
       "Market                           0\n",
       "Order City                       0\n",
       "Order Country                    0\n",
       "Order Item Discount Rate         0\n",
       "Order Item Quantity              0\n",
       "Order Region                     0\n",
       "Order State                      0\n",
       "Order Status                     0\n",
       "Product Name                     0\n",
       "Product Price                    0\n",
       "Shipping Mode                    0\n",
       "Total_price                      0\n",
       "order_yr                         0\n",
       "order_month                      0\n",
       "order_day                        0\n",
       "order_hour                       0\n",
       "dtype: int64"
      ]
     },
     "execution_count": 17,
     "metadata": {},
     "output_type": "execute_result"
    }
   ],
   "source": [
    "df.isnull().sum()"
   ]
  },
  {
   "cell_type": "markdown",
   "id": "38113f44",
   "metadata": {},
   "source": [
    "df['Customer Zipcode'] = df['Customer Zipcode'].fillna(0)"
   ]
  },
  {
   "cell_type": "code",
   "execution_count": 18,
   "id": "aa69c9fe",
   "metadata": {},
   "outputs": [],
   "source": [
    "loss = df[(df['Benefit per order']<0)]"
   ]
  },
  {
   "cell_type": "code",
   "execution_count": 19,
   "id": "298bd0ce",
   "metadata": {},
   "outputs": [
    {
     "data": {
      "text/plain": [
       "Text(0.5, 1.0, '10 Loss making products')"
      ]
     },
     "execution_count": 19,
     "metadata": {},
     "output_type": "execute_result"
    },
    {
     "data": {
      "image/png": "[encoded data removed]",
      "text/plain": [
       "<Figure size 360x360 with 1 Axes>"
      ]
     },
     "metadata": {
      "needs_background": "light"
     },
     "output_type": "display_data"
    }
   ],
   "source": [
    "plt.figure(figsize=(5,5))\n",
    "df['Category Name'].value_counts().nlargest(10).plot(kind='bar')\n",
    "plt.title(\"10 Loss making products\")"
   ]
  },
  {
   "cell_type": "code",
   "execution_count": 20,
   "id": "18623400",
   "metadata": {},
   "outputs": [
    {
     "data": {
      "text/plain": [
       "Text(0.5, 1.0, 'Loss making markets')"
      ]
     },
     "execution_count": 20,
     "metadata": {},
     "output_type": "execute_result"
    },
    {
     "data": {
      "image/png": "[encoded data removed]",
      "text/plain": [
       "<Figure size 360x360 with 1 Axes>"
      ]
     },
     "metadata": {
      "needs_background": "light"
     },
     "output_type": "display_data"
    }
   ],
   "source": [
    "plt.figure(figsize=(5,5))\n",
    "df['Market'].value_counts().plot(kind='bar')\n",
    "plt.title(\"Loss making markets\")"
   ]
  },
  {
   "cell_type": "code",
   "execution_count": 21,
   "id": "885cce19",
   "metadata": {},
   "outputs": [
    {
     "data": {
      "text/html": [
       "<div>\n",
       "<style scoped>\n",
       "    .dataframe tbody tr th:only-of-type {\n",
       "        vertical-align: middle;\n",
       "    }\n",
       "\n",
       "    .dataframe tbody tr th {\n",
       "        vertical-align: top;\n",
       "    }\n",
       "\n",
       "    .dataframe thead th {\n",
       "        text-align: right;\n",
       "    }\n",
       "</style>\n",
       "<table border=\"1\" class=\"dataframe\">\n",
       "  <thead>\n",
       "    <tr style=\"text-align: right;\">\n",
       "      <th></th>\n",
       "      <th></th>\n",
       "      <th>Order Status</th>\n",
       "    </tr>\n",
       "    <tr>\n",
       "      <th>Type</th>\n",
       "      <th>Order Status</th>\n",
       "      <th></th>\n",
       "    </tr>\n",
       "  </thead>\n",
       "  <tbody>\n",
       "    <tr>\n",
       "      <th>CASH</th>\n",
       "      <th>CLOSED</th>\n",
       "      <td>19616</td>\n",
       "    </tr>\n",
       "    <tr>\n",
       "      <th rowspan=\"2\" valign=\"top\">DEBIT</th>\n",
       "      <th>COMPLETE</th>\n",
       "      <td>59491</td>\n",
       "    </tr>\n",
       "    <tr>\n",
       "      <th>ON_HOLD</th>\n",
       "      <td>9804</td>\n",
       "    </tr>\n",
       "    <tr>\n",
       "      <th rowspan=\"2\" valign=\"top\">PAYMENT</th>\n",
       "      <th>PENDING_PAYMENT</th>\n",
       "      <td>39832</td>\n",
       "    </tr>\n",
       "    <tr>\n",
       "      <th>PAYMENT_REVIEW</th>\n",
       "      <td>1893</td>\n",
       "    </tr>\n",
       "    <tr>\n",
       "      <th rowspan=\"4\" valign=\"top\">TRANSFER</th>\n",
       "      <th>PROCESSING</th>\n",
       "      <td>21902</td>\n",
       "    </tr>\n",
       "    <tr>\n",
       "      <th>PENDING</th>\n",
       "      <td>20227</td>\n",
       "    </tr>\n",
       "    <tr>\n",
       "      <th>SUSPECTED_FRAUD</th>\n",
       "      <td>4062</td>\n",
       "    </tr>\n",
       "    <tr>\n",
       "      <th>CANCELED</th>\n",
       "      <td>3692</td>\n",
       "    </tr>\n",
       "  </tbody>\n",
       "</table>\n",
       "</div>"
      ],
      "text/plain": [
       "                          Order Status\n",
       "Type     Order Status                 \n",
       "CASH     CLOSED                  19616\n",
       "DEBIT    COMPLETE                59491\n",
       "         ON_HOLD                  9804\n",
       "PAYMENT  PENDING_PAYMENT         39832\n",
       "         PAYMENT_REVIEW           1893\n",
       "TRANSFER PROCESSING              21902\n",
       "         PENDING                 20227\n",
       "         SUSPECTED_FRAUD          4062\n",
       "         CANCELED                 3692"
      ]
     },
     "execution_count": 21,
     "metadata": {},
     "output_type": "execute_result"
    }
   ],
   "source": [
    "status = df.groupby('Type')['Order Status'].value_counts()\n",
    "status_df = status.to_frame()\n",
    "status_df"
   ]
  },
  {
   "cell_type": "code",
   "execution_count": 22,
   "id": "5288c19f",
   "metadata": {},
   "outputs": [],
   "source": [
    "fraud_region = df[(df['Order Status'] == 'SUSPECTED_FRAUD')]"
   ]
  },
  {
   "cell_type": "code",
   "execution_count": 23,
   "id": "150c0787",
   "metadata": {},
   "outputs": [
    {
     "data": {
      "text/plain": [
       "Index(['Type', 'Days for shipping (real)', 'Days for shipment (scheduled)',\n",
       "       'Benefit per order', 'Delivery Status', 'Late_delivery_risk',\n",
       "       'Category Name', 'Customer City', 'Customer Country',\n",
       "       'Customer Segment', 'Customer State', 'Department Name', 'Market',\n",
       "       'Order City', 'Order Country', 'Order Item Discount Rate',\n",
       "       'Order Item Quantity', 'Order Region', 'Order State', 'Order Status',\n",
       "       'Product Name', 'Product Price', 'Shipping Mode', 'Total_price',\n",
       "       'order_yr', 'order_month', 'order_day', 'order_hour'],\n",
       "      dtype='object')"
      ]
     },
     "execution_count": 23,
     "metadata": {},
     "output_type": "execute_result"
    }
   ],
   "source": [
    "df.columns"
   ]
  },
  {
   "cell_type": "code",
   "execution_count": 24,
   "id": "ac0ef2f8",
   "metadata": {},
   "outputs": [
    {
     "data": {
      "text/plain": [
       "Text(0.5, 1.0, 'Products with fraud activity')"
      ]
     },
     "execution_count": 24,
     "metadata": {},
     "output_type": "execute_result"
    },
    {
     "data": {
      "image/png": "[encoded data removed]",
      "text/plain": [
       "<Figure size 360x360 with 1 Axes>"
      ]
     },
     "metadata": {
      "needs_background": "light"
     },
     "output_type": "display_data"
    }
   ],
   "source": [
    "plt.figure(figsize=(5,5))\n",
    "fraud_region['Category Name'].value_counts().nlargest(10).plot(kind='bar')\n",
    "plt.title(\"Products with fraud activity\")"
   ]
  },
  {
   "cell_type": "code",
   "execution_count": 25,
   "id": "2359bc1d",
   "metadata": {},
   "outputs": [],
   "source": [
    "df1 = df.copy()"
   ]
  },
  {
   "cell_type": "code",
   "execution_count": 26,
   "id": "0329f2be",
   "metadata": {},
   "outputs": [
    {
     "data": {
      "text/plain": [
       "0    176457\n",
       "1      4062\n",
       "Name: fraud, dtype: int64"
      ]
     },
     "execution_count": 26,
     "metadata": {},
     "output_type": "execute_result"
    }
   ],
   "source": [
    "# Creating Binary enocode for Suspected Fraud and Late delivery\n",
    "df1['late_delivery']=np.where(df1['Delivery Status'] == 'Late delivery', 1, 0).astype('int64')\n",
    "df1['fraud'] = np.where(df1['Order Status'] == 'SUSPECTED_FRAUD', 1, 0).astype('int64')\n",
    "df1['fraud'].value_counts()"
   ]
  },
  {
   "cell_type": "code",
   "execution_count": 27,
   "id": "5a1c04ac",
   "metadata": {},
   "outputs": [],
   "source": [
    "df1.drop(['Delivery Status','Late_delivery_risk','Order Status','Benefit per order'], axis=1, inplace=True)"
   ]
  },
  {
   "cell_type": "code",
   "execution_count": 28,
   "id": "04c9d074",
   "metadata": {},
   "outputs": [
    {
     "data": {
      "text/plain": [
       "(180519, 26)"
      ]
     },
     "execution_count": 28,
     "metadata": {},
     "output_type": "execute_result"
    }
   ],
   "source": [
    "df1.shape"
   ]
  },
  {
   "cell_type": "code",
   "execution_count": 29,
   "id": "41988b70",
   "metadata": {},
   "outputs": [
    {
     "name": "stdout",
     "output_type": "stream",
     "text": [
      "<class 'pandas.core.frame.DataFrame'>\n",
      "RangeIndex: 180519 entries, 0 to 180518\n",
      "Data columns (total 26 columns):\n",
      " #   Column                         Non-Null Count   Dtype  \n",
      "---  ------                         --------------   -----  \n",
      " 0   Type                           180519 non-null  object \n",
      " 1   Days for shipping (real)       180519 non-null  int64  \n",
      " 2   Days for shipment (scheduled)  180519 non-null  int64  \n",
      " 3   Category Name                  180519 non-null  object \n",
      " 4   Customer City                  180519 non-null  object \n",
      " 5   Customer Country               180519 non-null  object \n",
      " 6   Customer Segment               180519 non-null  object \n",
      " 7   Customer State                 180519 non-null  object \n",
      " 8   Department Name                180519 non-null  object \n",
      " 9   Market                         180519 non-null  object \n",
      " 10  Order City                     180519 non-null  object \n",
      " 11  Order Country                  180519 non-null  object \n",
      " 12  Order Item Discount Rate       180519 non-null  float64\n",
      " 13  Order Item Quantity            180519 non-null  int64  \n",
      " 14  Order Region                   180519 non-null  object \n",
      " 15  Order State                    180519 non-null  object \n",
      " 16  Product Name                   180519 non-null  object \n",
      " 17  Product Price                  180519 non-null  float64\n",
      " 18  Shipping Mode                  180519 non-null  object \n",
      " 19  Total_price                    180519 non-null  float64\n",
      " 20  order_yr                       180519 non-null  int64  \n",
      " 21  order_month                    180519 non-null  int64  \n",
      " 22  order_day                      180519 non-null  int64  \n",
      " 23  order_hour                     180519 non-null  int64  \n",
      " 24  late_delivery                  180519 non-null  int64  \n",
      " 25  fraud                          180519 non-null  int64  \n",
      "dtypes: float64(3), int64(9), object(14)\n",
      "memory usage: 35.8+ MB\n"
     ]
    }
   ],
   "source": [
    "df1.info()"
   ]
  },
  {
   "cell_type": "code",
   "execution_count": 30,
   "id": "617e54ab",
   "metadata": {},
   "outputs": [
    {
     "data": {
      "text/plain": [
       "<AxesSubplot: >"
      ]
     },
     "execution_count": 30,
     "metadata": {},
     "output_type": "execute_result"
    },
    {
     "data": {
      "image/png": "[encoded data removed]",
      "text/plain": [
       "<Figure size 1080x1080 with 2 Axes>"
      ]
     },
     "metadata": {
      "needs_background": "light"
     },
     "output_type": "display_data"
    }
   ],
   "source": [
    "plt.figure(figsize=(15,15))\n",
    "sns.heatmap(df1.corr(),annot=True,linewidths=.3 ,fmt='.1g', cmap= 'coolwarm')"
   ]
  },
  {
   "cell_type": "code",
   "execution_count": 31,
   "id": "d12d99e0",
   "metadata": {},
   "outputs": [
    {
     "data": {
      "text/plain": [
       "Type                                4\n",
       "Days for shipping (real)            7\n",
       "Days for shipment (scheduled)       4\n",
       "Category Name                      50\n",
       "Customer City                     563\n",
       "Customer Country                    2\n",
       "Customer Segment                    3\n",
       "Customer State                     46\n",
       "Department Name                    11\n",
       "Market                              5\n",
       "Order City                       3597\n",
       "Order Country                     164\n",
       "Order Item Discount Rate           18\n",
       "Order Item Quantity                 5\n",
       "Order Region                       23\n",
       "Order State                      1089\n",
       "Product Name                      118\n",
       "Product Price                      60\n",
       "Shipping Mode                       4\n",
       "Total_price                      2702\n",
       "order_yr                            4\n",
       "order_month                        12\n",
       "order_day                           7\n",
       "order_hour                         24\n",
       "late_delivery                       2\n",
       "fraud                               2\n",
       "dtype: int64"
      ]
     },
     "execution_count": 31,
     "metadata": {},
     "output_type": "execute_result"
    }
   ],
   "source": [
    "df1.nunique()"
   ]
  },
  {
   "cell_type": "code",
   "execution_count": 32,
   "id": "ed5610b1",
   "metadata": {},
   "outputs": [],
   "source": [
    "from sklearn.preprocessing import LabelEncoder,StandardScaler\n",
    "le = LabelEncoder()\n",
    "df1['Type'] = le.fit_transform(df1['Type']).astype('int64')\n",
    "df1['Category Name'] = le.fit_transform(df1['Category Name']).astype('int64')\n",
    "df1['Customer City'] = le.fit_transform(df1['Customer City']).astype('int64')\n",
    "df1['Customer Country'] = le.fit_transform(df1['Customer Country']).astype('int64')\n",
    "df1['Customer Segment'] = le.fit_transform(df1['Customer Segment']).astype('int64')\n",
    "df1['Customer State'] = le.fit_transform(df1['Customer State']).astype('int64')\n",
    "df1['Department Name'] = le.fit_transform(df1['Department Name']).astype('int64')\n",
    "df1['Market'] = le.fit_transform(df1['Market']).astype('int64')\n",
    "df1['Order City'] = le.fit_transform(df1['Order City']).astype('int64')\n",
    "df1['Order Country'] = le.fit_transform(df1['Order Country']).astype('int64')\n",
    "df1['Order State'] = le.fit_transform(df1['Order State']).astype('int64')\n",
    "df1['Order Region'] = le.fit_transform(df1['Order Region']).astype('int64')\n",
    "df1['Product Name'] = le.fit_transform(df1['Product Name']).astype('int64')\n",
    "df1['Shipping Mode'] = le.fit_transform(df1['Shipping Mode']).astype('int64')"
   ]
  },
  {
   "cell_type": "markdown",
   "id": "37c3ffa5",
   "metadata": {},
   "source": [
    "ss = StandardScaler()\n",
    "df1[['Total_price','Product Price']] = pd.DataFrame(ss.fit_transform(df1[['Total_price','Product Price']]))\n",
    "df1.head()"
   ]
  },
  {
   "cell_type": "code",
   "execution_count": 33,
   "id": "05033553",
   "metadata": {},
   "outputs": [
    {
     "data": {
      "text/plain": [
       "(1805, 26)"
      ]
     },
     "execution_count": 33,
     "metadata": {},
     "output_type": "execute_result"
    }
   ],
   "source": [
    "## dataset for validation\n",
    "sample_df = df1.sample(frac=0.01,random_state=1)\n",
    "sample_df.shape"
   ]
  },
  {
   "cell_type": "code",
   "execution_count": 34,
   "id": "2150d647",
   "metadata": {},
   "outputs": [
    {
     "data": {
      "text/plain": [
       "(178714, 26)"
      ]
     },
     "execution_count": 34,
     "metadata": {},
     "output_type": "execute_result"
    }
   ],
   "source": [
    "df1 = df1.drop(sample_df.index)\n",
    "df1.shape"
   ]
  },
  {
   "cell_type": "code",
   "execution_count": 35,
   "id": "d8fb7342",
   "metadata": {},
   "outputs": [],
   "source": [
    "## splitting the dataset into train and test spilt\n",
    "X = df1.loc[:,df1.columns != 'fraud']\n",
    "y = df1['fraud']"
   ]
  },
  {
   "cell_type": "code",
   "execution_count": 36,
   "id": "40bb37ad",
   "metadata": {},
   "outputs": [
    {
     "data": {
      "text/plain": [
       "<AxesSubplot: xlabel='fraud', ylabel='count'>"
      ]
     },
     "execution_count": 36,
     "metadata": {},
     "output_type": "execute_result"
    },
    {
     "data": {
      "image/png": "[encoded data removed]",
      "text/plain": [
       "<Figure size 432x288 with 1 Axes>"
      ]
     },
     "metadata": {
      "needs_background": "light"
     },
     "output_type": "display_data"
    }
   ],
   "source": [
    "sns.countplot(df1['fraud'],data=df1)"
   ]
  },
  {
   "cell_type": "code",
   "execution_count": 38,
   "id": "d82d9f1c",
   "metadata": {},
   "outputs": [
    {
     "ename": "ImportError",
     "evalue": "cannot import name '_MissingValues' from 'sklearn.utils._param_validation' (C:\\Users\\HP\\anaconda3\\lib\\site-packages\\sklearn\\utils\\_param_validation.py)",
     "output_type": "error",
     "traceback": [
      "\u001b[1;31m---------------------------------------------------------------------------\u001b[0m",
      "\u001b[1;31mImportError\u001b[0m                               Traceback (most recent call last)",
      "Input \u001b[1;32mIn [38]\u001b[0m, in \u001b[0;36m<cell line: 1>\u001b[1;34m()\u001b[0m\n\u001b[1;32m----> 1\u001b[0m \u001b[38;5;28;01mfrom\u001b[39;00m \u001b[38;5;21;01mimblearn\u001b[39;00m\u001b[38;5;21;01m.\u001b[39;00m\u001b[38;5;21;01mover_sampling\u001b[39;00m \u001b[38;5;28;01mimport\u001b[39;00m SMOTE\n\u001b[0;32m      3\u001b[0m sm \u001b[38;5;241m=\u001b[39m SMOTE(sampling_strategy \u001b[38;5;241m=\u001b[39m \u001b[38;5;124m'\u001b[39m\u001b[38;5;124mminority\u001b[39m\u001b[38;5;124m'\u001b[39m,random_state\u001b[38;5;241m=\u001b[39m\u001b[38;5;241m42\u001b[39m)\n\u001b[0;32m      4\u001b[0m X, y \u001b[38;5;241m=\u001b[39m sm\u001b[38;5;241m.\u001b[39mfit_resample(X, y)\n",
      "File \u001b[1;32m~\\anaconda3\\lib\\site-packages\\imblearn\\__init__.py:52\u001b[0m, in \u001b[0;36m<module>\u001b[1;34m\u001b[0m\n\u001b[0;32m     48\u001b[0m     sys\u001b[38;5;241m.\u001b[39mstderr\u001b[38;5;241m.\u001b[39mwrite(\u001b[38;5;124m\"\u001b[39m\u001b[38;5;124mPartial import of imblearn during the build process.\u001b[39m\u001b[38;5;130;01m\\n\u001b[39;00m\u001b[38;5;124m\"\u001b[39m)\n\u001b[0;32m     49\u001b[0m     \u001b[38;5;66;03m# We are not importing the rest of scikit-learn during the build\u001b[39;00m\n\u001b[0;32m     50\u001b[0m     \u001b[38;5;66;03m# process, as it may not be compiled yet\u001b[39;00m\n\u001b[0;32m     51\u001b[0m \u001b[38;5;28;01melse\u001b[39;00m:\n\u001b[1;32m---> 52\u001b[0m     \u001b[38;5;28;01mfrom\u001b[39;00m \u001b[38;5;21;01m.\u001b[39;00m \u001b[38;5;28;01mimport\u001b[39;00m (\n\u001b[0;32m     53\u001b[0m         combine,\n\u001b[0;32m     54\u001b[0m         ensemble,\n\u001b[0;32m     55\u001b[0m         exceptions,\n\u001b[0;32m     56\u001b[0m         metrics,\n\u001b[0;32m     57\u001b[0m         over_sampling,\n\u001b[0;32m     58\u001b[0m         pipeline,\n\u001b[0;32m     59\u001b[0m         tensorflow,\n\u001b[0;32m     60\u001b[0m         under_sampling,\n\u001b[0;32m     61\u001b[0m         utils,\n\u001b[0;32m     62\u001b[0m     )\n\u001b[0;32m     63\u001b[0m     \u001b[38;5;28;01mfrom\u001b[39;00m \u001b[38;5;21;01m.\u001b[39;00m\u001b[38;5;21;01m_version\u001b[39;00m \u001b[38;5;28;01mimport\u001b[39;00m __version__\n\u001b[0;32m     64\u001b[0m     \u001b[38;5;28;01mfrom\u001b[39;00m \u001b[38;5;21;01m.\u001b[39;00m\u001b[38;5;21;01mbase\u001b[39;00m \u001b[38;5;28;01mimport\u001b[39;00m FunctionSampler\n",
      "File \u001b[1;32m~\\anaconda3\\lib\\site-packages\\imblearn\\combine\\__init__.py:5\u001b[0m, in \u001b[0;36m<module>\u001b[1;34m\u001b[0m\n\u001b[0;32m      1\u001b[0m \u001b[38;5;124;03m\"\"\"The :mod:`imblearn.combine` provides methods which combine\u001b[39;00m\n\u001b[0;32m      2\u001b[0m \u001b[38;5;124;03mover-sampling and under-sampling.\u001b[39;00m\n\u001b[0;32m      3\u001b[0m \u001b[38;5;124;03m\"\"\"\u001b[39;00m\n\u001b[1;32m----> 5\u001b[0m \u001b[38;5;28;01mfrom\u001b[39;00m \u001b[38;5;21;01m.\u001b[39;00m\u001b[38;5;21;01m_smote_enn\u001b[39;00m \u001b[38;5;28;01mimport\u001b[39;00m SMOTEENN\n\u001b[0;32m      6\u001b[0m \u001b[38;5;28;01mfrom\u001b[39;00m \u001b[38;5;21;01m.\u001b[39;00m\u001b[38;5;21;01m_smote_tomek\u001b[39;00m \u001b[38;5;28;01mimport\u001b[39;00m SMOTETomek\n\u001b[0;32m      8\u001b[0m __all__ \u001b[38;5;241m=\u001b[39m [\u001b[38;5;124m\"\u001b[39m\u001b[38;5;124mSMOTEENN\u001b[39m\u001b[38;5;124m\"\u001b[39m, \u001b[38;5;124m\"\u001b[39m\u001b[38;5;124mSMOTETomek\u001b[39m\u001b[38;5;124m\"\u001b[39m]\n",
      "File \u001b[1;32m~\\anaconda3\\lib\\site-packages\\imblearn\\combine\\_smote_enn.py:12\u001b[0m, in \u001b[0;36m<module>\u001b[1;34m\u001b[0m\n\u001b[0;32m      9\u001b[0m \u001b[38;5;28;01mfrom\u001b[39;00m \u001b[38;5;21;01msklearn\u001b[39;00m\u001b[38;5;21;01m.\u001b[39;00m\u001b[38;5;21;01mbase\u001b[39;00m \u001b[38;5;28;01mimport\u001b[39;00m clone\n\u001b[0;32m     10\u001b[0m \u001b[38;5;28;01mfrom\u001b[39;00m \u001b[38;5;21;01msklearn\u001b[39;00m\u001b[38;5;21;01m.\u001b[39;00m\u001b[38;5;21;01mutils\u001b[39;00m \u001b[38;5;28;01mimport\u001b[39;00m check_X_y\n\u001b[1;32m---> 12\u001b[0m \u001b[38;5;28;01mfrom\u001b[39;00m \u001b[38;5;21;01m.\u001b[39;00m\u001b[38;5;21;01m.\u001b[39;00m\u001b[38;5;21;01mbase\u001b[39;00m \u001b[38;5;28;01mimport\u001b[39;00m BaseSampler\n\u001b[0;32m     13\u001b[0m \u001b[38;5;28;01mfrom\u001b[39;00m \u001b[38;5;21;01m.\u001b[39;00m\u001b[38;5;21;01m.\u001b[39;00m\u001b[38;5;21;01mover_sampling\u001b[39;00m \u001b[38;5;28;01mimport\u001b[39;00m SMOTE\n\u001b[0;32m     14\u001b[0m \u001b[38;5;28;01mfrom\u001b[39;00m \u001b[38;5;21;01m.\u001b[39;00m\u001b[38;5;21;01m.\u001b[39;00m\u001b[38;5;21;01mover_sampling\u001b[39;00m\u001b[38;5;21;01m.\u001b[39;00m\u001b[38;5;21;01mbase\u001b[39;00m \u001b[38;5;28;01mimport\u001b[39;00m BaseOverSampler\n",
      "File \u001b[1;32m~\\anaconda3\\lib\\site-packages\\imblearn\\base.py:21\u001b[0m, in \u001b[0;36m<module>\u001b[1;34m\u001b[0m\n\u001b[0;32m     18\u001b[0m \u001b[38;5;28;01mfrom\u001b[39;00m \u001b[38;5;21;01msklearn\u001b[39;00m\u001b[38;5;21;01m.\u001b[39;00m\u001b[38;5;21;01mutils\u001b[39;00m\u001b[38;5;21;01m.\u001b[39;00m\u001b[38;5;21;01mmulticlass\u001b[39;00m \u001b[38;5;28;01mimport\u001b[39;00m check_classification_targets\n\u001b[0;32m     20\u001b[0m \u001b[38;5;28;01mfrom\u001b[39;00m \u001b[38;5;21;01m.\u001b[39;00m\u001b[38;5;21;01mutils\u001b[39;00m \u001b[38;5;28;01mimport\u001b[39;00m check_sampling_strategy, check_target_type\n\u001b[1;32m---> 21\u001b[0m \u001b[38;5;28;01mfrom\u001b[39;00m \u001b[38;5;21;01m.\u001b[39;00m\u001b[38;5;21;01mutils\u001b[39;00m\u001b[38;5;21;01m.\u001b[39;00m\u001b[38;5;21;01m_param_validation\u001b[39;00m \u001b[38;5;28;01mimport\u001b[39;00m validate_parameter_constraints\n\u001b[0;32m     22\u001b[0m \u001b[38;5;28;01mfrom\u001b[39;00m \u001b[38;5;21;01m.\u001b[39;00m\u001b[38;5;21;01mutils\u001b[39;00m\u001b[38;5;21;01m.\u001b[39;00m\u001b[38;5;21;01m_validation\u001b[39;00m \u001b[38;5;28;01mimport\u001b[39;00m ArraysTransformer\n\u001b[0;32m     25\u001b[0m \u001b[38;5;28;01mclass\u001b[39;00m \u001b[38;5;21;01mSamplerMixin\u001b[39;00m(BaseEstimator, metaclass\u001b[38;5;241m=\u001b[39mABCMeta):\n",
      "File \u001b[1;32m~\\anaconda3\\lib\\site-packages\\imblearn\\utils\\_param_validation.py:908\u001b[0m, in \u001b[0;36m<module>\u001b[1;34m\u001b[0m\n\u001b[0;32m    906\u001b[0m \u001b[38;5;28;01mfrom\u001b[39;00m \u001b[38;5;21;01msklearn\u001b[39;00m\u001b[38;5;21;01m.\u001b[39;00m\u001b[38;5;21;01mutils\u001b[39;00m\u001b[38;5;21;01m.\u001b[39;00m\u001b[38;5;21;01m_param_validation\u001b[39;00m \u001b[38;5;28;01mimport\u001b[39;00m generate_valid_param  \u001b[38;5;66;03m# noqa\u001b[39;00m\n\u001b[0;32m    907\u001b[0m \u001b[38;5;28;01mfrom\u001b[39;00m \u001b[38;5;21;01msklearn\u001b[39;00m\u001b[38;5;21;01m.\u001b[39;00m\u001b[38;5;21;01mutils\u001b[39;00m\u001b[38;5;21;01m.\u001b[39;00m\u001b[38;5;21;01m_param_validation\u001b[39;00m \u001b[38;5;28;01mimport\u001b[39;00m validate_parameter_constraints  \u001b[38;5;66;03m# noqa\u001b[39;00m\n\u001b[1;32m--> 908\u001b[0m \u001b[38;5;28;01mfrom\u001b[39;00m \u001b[38;5;21;01msklearn\u001b[39;00m\u001b[38;5;21;01m.\u001b[39;00m\u001b[38;5;21;01mutils\u001b[39;00m\u001b[38;5;21;01m.\u001b[39;00m\u001b[38;5;21;01m_param_validation\u001b[39;00m \u001b[38;5;28;01mimport\u001b[39;00m (\n\u001b[0;32m    909\u001b[0m     HasMethods,\n\u001b[0;32m    910\u001b[0m     Hidden,\n\u001b[0;32m    911\u001b[0m     Interval,\n\u001b[0;32m    912\u001b[0m     Options,\n\u001b[0;32m    913\u001b[0m     StrOptions,\n\u001b[0;32m    914\u001b[0m     _ArrayLikes,\n\u001b[0;32m    915\u001b[0m     _Booleans,\n\u001b[0;32m    916\u001b[0m     _Callables,\n\u001b[0;32m    917\u001b[0m     _CVObjects,\n\u001b[0;32m    918\u001b[0m     _InstancesOf,\n\u001b[0;32m    919\u001b[0m     _IterablesNotString,\n\u001b[0;32m    920\u001b[0m     _MissingValues,\n\u001b[0;32m    921\u001b[0m     _NoneConstraint,\n\u001b[0;32m    922\u001b[0m     _PandasNAConstraint,\n\u001b[0;32m    923\u001b[0m     _RandomStates,\n\u001b[0;32m    924\u001b[0m     _SparseMatrices,\n\u001b[0;32m    925\u001b[0m     _VerboseHelper,\n\u001b[0;32m    926\u001b[0m     make_constraint,\n\u001b[0;32m    927\u001b[0m     validate_params,\n\u001b[0;32m    928\u001b[0m )\n",
      "\u001b[1;31mImportError\u001b[0m: cannot import name '_MissingValues' from 'sklearn.utils._param_validation' (C:\\Users\\HP\\anaconda3\\lib\\site-packages\\sklearn\\utils\\_param_validation.py)"
     ]
    }
   ],
   "source": [
    "from imblearn.over_sampling import SMOTE\n",
    "\n",
    "sm = SMOTE(sampling_strategy = 'minority',random_state=42)\n",
    "X, y = sm.fit_resample(X, y)\n",
    "\n",
    "# Create a new dataframe with resampled data\n",
    "df1 = pd.concat([pd.DataFrame(X), pd.DataFrame(y)], axis=1)\n",
    "\n",
    "# Check the value counts of the target variable after oversampling\n",
    "print(df1['fraud'].value_counts())\n"
   ]
  },
  {
   "cell_type": "code",
   "execution_count": null,
   "id": "e21debde",
   "metadata": {},
   "outputs": [],
   "source": [
    "sns.countplot(df1['fraud'],data=df1)"
   ]
  },
  {
   "cell_type": "markdown",
   "id": "b84719d0",
   "metadata": {},
   "source": [
    "from sklearn.decomposition import PCA\n",
    "pca = PCA(0.95)\n",
    "X_new = pd.DataFrame(pca.fit_transform(X))\n",
    "print('shape of X new:',X_new.shape)\n",
    "print('no.of pca components:',pca.n_components_)\n",
    "print('explained variance :', pca.explained_variance_ratio_)"
   ]
  },
  {
   "cell_type": "code",
   "execution_count": null,
   "id": "a8dc7428",
   "metadata": {},
   "outputs": [],
   "source": [
    "from sklearn.model_selection import train_test_split\n",
    "Xtrain,Xtest,ytrain,ytest = train_test_split(X,y,test_size = 0.3,\n",
    "                                             random_state = 42)"
   ]
  },
  {
   "cell_type": "code",
   "execution_count": null,
   "id": "5a8fbea6",
   "metadata": {},
   "outputs": [],
   "source": [
    "Xtrain"
   ]
  },
  {
   "cell_type": "markdown",
   "id": "ca8daf6b",
   "metadata": {},
   "source": [
    "#### MLP classifier\n"
   ]
  },
  {
   "cell_type": "code",
   "execution_count": null,
   "id": "45f0554d",
   "metadata": {},
   "outputs": [],
   "source": [
    "from sklearn.neural_network import MLPClassifier\n",
    "from sklearn.metrics import confusion_matrix, accuracy_score\n",
    "mlp = MLPClassifier(hidden_layer_sizes=(6), activation='logistic', solver='lbfgs',random_state=1)\n",
    "mlp.fit(Xtrain,ytrain)"
   ]
  },
  {
   "cell_type": "code",
   "execution_count": null,
   "id": "38985c95",
   "metadata": {},
   "outputs": [],
   "source": [
    "mlptrain_pred = mlp.predict(Xtrain) \n"
   ]
  },
  {
   "cell_type": "code",
   "execution_count": null,
   "id": "67d4b38b",
   "metadata": {},
   "outputs": [],
   "source": [
    "mlppred = mlp.predict(Xtest)"
   ]
  },
  {
   "cell_type": "code",
   "execution_count": null,
   "id": "2b363dd6",
   "metadata": {},
   "outputs": [],
   "source": [
    "print(confusion_matrix(ytest,mlppred))\n",
    "print()"
   ]
  },
  {
   "cell_type": "code",
   "execution_count": null,
   "id": "10e96efc",
   "metadata": {},
   "outputs": [],
   "source": [
    "accuracy_score(ytrain,mlptrain_pred)"
   ]
  },
  {
   "cell_type": "code",
   "execution_count": null,
   "id": "e6283ed6",
   "metadata": {},
   "outputs": [],
   "source": [
    "accuracy_score(ytest,mlppred)"
   ]
  },
  {
   "cell_type": "markdown",
   "id": "0054c83e",
   "metadata": {},
   "source": [
    "####  Decision Tree classifier"
   ]
  },
  {
   "cell_type": "code",
   "execution_count": null,
   "id": "35104f3c",
   "metadata": {},
   "outputs": [],
   "source": [
    "from sklearn.tree import DecisionTreeClassifier\n",
    "dtc = DecisionTreeClassifier(max_depth = 5)\n",
    "dtc.fit(Xtrain,ytrain)"
   ]
  },
  {
   "cell_type": "code",
   "execution_count": null,
   "id": "6a0185a1",
   "metadata": {},
   "outputs": [],
   "source": [
    "\n",
    "dtctrain_pred = dtc.predict(Xtrain) \n"
   ]
  },
  {
   "cell_type": "code",
   "execution_count": null,
   "id": "0a514c9f",
   "metadata": {},
   "outputs": [],
   "source": [
    "dtcpred = dtc.predict(Xtest)\n"
   ]
  },
  {
   "cell_type": "code",
   "execution_count": null,
   "id": "0d26c6f1",
   "metadata": {},
   "outputs": [],
   "source": [
    "print(confusion_matrix(ytest,dtcpred))"
   ]
  },
  {
   "cell_type": "code",
   "execution_count": null,
   "id": "7c575a20",
   "metadata": {},
   "outputs": [],
   "source": [
    "accuracy_score(ytrain,dtctrain_pred)"
   ]
  },
  {
   "cell_type": "code",
   "execution_count": null,
   "id": "0de1b878",
   "metadata": {},
   "outputs": [],
   "source": [
    "accuracy_score(ytest,dtcpred)"
   ]
  },
  {
   "cell_type": "markdown",
   "id": "1e5c7c79",
   "metadata": {},
   "source": [
    "#### Random Forest \n"
   ]
  },
  {
   "cell_type": "code",
   "execution_count": null,
   "id": "bfa0b416",
   "metadata": {},
   "outputs": [],
   "source": [
    "from sklearn.ensemble import RandomForestClassifier\n",
    "rfc = RandomForestClassifier(max_depth = 5)\n",
    "rfc.fit(Xtrain, ytrain)\n",
    "rfctrain_pred = rfc.predict(Xtrain)"
   ]
  },
  {
   "cell_type": "code",
   "execution_count": null,
   "id": "f2d9db0b",
   "metadata": {},
   "outputs": [],
   "source": [
    "rfcpred = rfc.predict(Xtest)"
   ]
  },
  {
   "cell_type": "code",
   "execution_count": null,
   "id": "13f17d83",
   "metadata": {},
   "outputs": [],
   "source": [
    "print(confusion_matrix(ytest,rfcpred))"
   ]
  },
  {
   "cell_type": "code",
   "execution_count": null,
   "id": "48162d4f",
   "metadata": {},
   "outputs": [],
   "source": [
    "accuracy_score(ytrain,rfctrain_pred)"
   ]
  },
  {
   "cell_type": "code",
   "execution_count": null,
   "id": "16f8193e",
   "metadata": {},
   "outputs": [],
   "source": [
    "accuracy_score(ytest,rfcpred)"
   ]
  },
  {
   "cell_type": "markdown",
   "id": "9861e9f6",
   "metadata": {},
   "source": [
    "#### XGB Classifier"
   ]
  },
  {
   "cell_type": "code",
   "execution_count": null,
   "id": "7a67d85f",
   "metadata": {},
   "outputs": [],
   "source": [
    "import xgboost as xgb\n",
    "from catboost import CatBoostClassifier"
   ]
  },
  {
   "cell_type": "code",
   "execution_count": null,
   "id": "8443b5f1",
   "metadata": {},
   "outputs": [],
   "source": [
    "xgb = xgb.XGBClassifier(max_depth=3)\n",
    "xgb.fit(Xtrain,ytrain)\n",
    "xgbtrain_pred = xgb.predict(Xtrain) \n",
    "xgbpred = xgb.predict(Xtest)"
   ]
  },
  {
   "cell_type": "code",
   "execution_count": null,
   "id": "04ae2e13",
   "metadata": {},
   "outputs": [],
   "source": [
    "confusion_matrix(ytest,xgbpred)"
   ]
  },
  {
   "cell_type": "code",
   "execution_count": null,
   "id": "a4fc9c0b",
   "metadata": {},
   "outputs": [],
   "source": [
    "accuracy_score(ytrain,xgbtrain_pred)"
   ]
  },
  {
   "cell_type": "code",
   "execution_count": null,
   "id": "e8516897",
   "metadata": {},
   "outputs": [],
   "source": [
    "accuracy_score(ytest,xgbpred)"
   ]
  },
  {
   "cell_type": "code",
   "execution_count": null,
   "id": "08cc9d54",
   "metadata": {},
   "outputs": [],
   "source": [
    "from sklearn.linear_model import LogisticRegression\n",
    "lr = LogisticRegression()\n",
    "lr.fit(Xtrain,ytrain)\n",
    "lrtrain_pred = lr.predict(Xtrain)\n",
    "lr_pred = lr.predict(Xtest)\n",
    "\n"
   ]
  },
  {
   "cell_type": "code",
   "execution_count": null,
   "id": "c250ea93",
   "metadata": {},
   "outputs": [],
   "source": [
    "confusion_matrix(ytest,lr_pred)"
   ]
  },
  {
   "cell_type": "code",
   "execution_count": null,
   "id": "c9acc388",
   "metadata": {},
   "outputs": [],
   "source": [
    "accuracy_score(ytrain,lrtrain_pred)"
   ]
  },
  {
   "cell_type": "code",
   "execution_count": null,
   "id": "dde7b173",
   "metadata": {},
   "outputs": [],
   "source": [
    "accuracy_score(ytest,lr_pred)"
   ]
  },
  {
   "cell_type": "markdown",
   "id": "3ff632bb",
   "metadata": {},
   "source": [
    "from sklearn.neighbors import KNeighborsClassifier\n",
    "\n",
    "#Create an instance of the KNeighborsClassifier model\n",
    "knn = KNeighborsClassifier(n_neighbors=10)  # Set the number of neighbors (k) to desired value\n",
    "\n",
    "#Fit the model on your data\n",
    "knn.fit(Xtrain, ytrain)\n",
    "knn_pred = knn.predict(Xtest)"
   ]
  },
  {
   "cell_type": "markdown",
   "id": "a8cb61b5",
   "metadata": {},
   "source": [
    "accuracy_score(ytest,knn_pred)"
   ]
  },
  {
   "cell_type": "markdown",
   "id": "55817bdc",
   "metadata": {},
   "source": [
    "confusion_matrix(ytest,knn_pred)"
   ]
  },
  {
   "cell_type": "markdown",
   "id": "d857ad2a",
   "metadata": {},
   "source": [
    "#### validating the models"
   ]
  },
  {
   "cell_type": "code",
   "execution_count": null,
   "id": "fa1e80d8",
   "metadata": {},
   "outputs": [],
   "source": [
    "sample_df.shape"
   ]
  },
  {
   "cell_type": "code",
   "execution_count": null,
   "id": "1dd88f6b",
   "metadata": {},
   "outputs": [],
   "source": [
    "Xsample = sample_df.loc[:,sample_df.columns != 'fraud']\n",
    "ysample = sample_df['fraud']"
   ]
  },
  {
   "cell_type": "code",
   "execution_count": null,
   "id": "f539fd2e",
   "metadata": {},
   "outputs": [],
   "source": [
    "sns.countplot(sample_df['fraud'])"
   ]
  },
  {
   "cell_type": "code",
   "execution_count": null,
   "id": "2769bfbc",
   "metadata": {},
   "outputs": [],
   "source": [
    "sample_df.shape"
   ]
  },
  {
   "cell_type": "code",
   "execution_count": null,
   "id": "33f78948",
   "metadata": {},
   "outputs": [],
   "source": [
    "from imblearn.over_sampling import RandomOverSampler\n",
    "\n",
    "ros = RandomOverSampler(random_state=42)\n",
    "Xsample, ysample = ros.fit_resample(Xsample, ysample)\n",
    "\n",
    "sample_df = pd.concat([pd.DataFrame(Xsample),pd.DataFrame(ysample)],axis = 1)\n",
    "sample_df ['fraud'].value_counts()\n"
   ]
  },
  {
   "cell_type": "code",
   "execution_count": null,
   "id": "c7875711",
   "metadata": {},
   "outputs": [],
   "source": [
    "sns.countplot(sample_df['fraud'])"
   ]
  },
  {
   "cell_type": "code",
   "execution_count": null,
   "id": "5bda38ef",
   "metadata": {},
   "outputs": [],
   "source": [
    "sample_df.shape"
   ]
  },
  {
   "cell_type": "markdown",
   "id": "dbd14685",
   "metadata": {},
   "source": [
    "pca = PCA(0.95)\n",
    "Xsample_new = pd.DataFrame(pca.fit_transform(Xsample))\n",
    "print('shape of Xsample new:',Xsample_new.shape)\n",
    "print('no.of pca components:',pca.n_components_)\n",
    "print('explained variance :', pca.explained_variance_ratio_)"
   ]
  },
  {
   "cell_type": "markdown",
   "id": "6530ae8a",
   "metadata": {},
   "source": [
    "## validating the model with valid data\n",
    "xgb_pred = xgb.predict(Xsample_new)\n",
    "\n",
    "print(confusion_matrix(ysample,xgb_pred))\n",
    "print('xgb_accuracy=',accuracy_score(ysample,xgb_pred))"
   ]
  },
  {
   "cell_type": "code",
   "execution_count": null,
   "id": "9adad537",
   "metadata": {},
   "outputs": [],
   "source": [
    "## validating the model with valid data\n",
    "xgb_pred = xgb.predict(Xsample)\n",
    "\n",
    "print(confusion_matrix(ysample,xgb_pred))\n",
    "print('xgb_accuracy=',accuracy_score(ysample,xgb_pred))"
   ]
  },
  {
   "cell_type": "code",
   "execution_count": null,
   "id": "f8f2c0c9",
   "metadata": {},
   "outputs": [],
   "source": [
    "## validating the model with valid data\n",
    "rfc_pred = rfc.predict(Xsample)\n",
    "\n",
    "print(confusion_matrix(ysample,rfc_pred))\n",
    "print('xgb_accuracy=',accuracy_score(ysample,rfc_pred))"
   ]
  },
  {
   "cell_type": "code",
   "execution_count": null,
   "id": "4960d21f",
   "metadata": {},
   "outputs": [],
   "source": [
    "sample_df['predicted_fraud_xgb'] = xgb_pred\n",
    "sample_df['predicted_fraud_rfc'] = rfc_pred\n",
    "dff = sample_df[sample_df['fraud']== 1]\n",
    "dff.head()"
   ]
  },
  {
   "cell_type": "code",
   "execution_count": null,
   "id": "2bccad89",
   "metadata": {},
   "outputs": [],
   "source": []
  },
  {
   "cell_type": "code",
   "execution_count": null,
   "id": "f772b366",
   "metadata": {},
   "outputs": [],
   "source": [
    "pd.set_option('display.max_rows',None)\n",
    "sample_df"
   ]
  },
  {
   "cell_type": "code",
   "execution_count": null,
   "id": "f7993c86",
   "metadata": {},
   "outputs": [],
   "source": [
    "sample_df.to_excel('fraud_detection_validation.xlsx', index=False)"
   ]
  },
  {
   "cell_type": "code",
   "execution_count": null,
   "id": "ec22396e",
   "metadata": {},
   "outputs": [],
   "source": [
    "file_path = 'C:/Users/HP/OneDrive/Documents/InternshipProjects/Datasets/fraud_results.xlsx'\n",
    "\n",
    "# Save the DataFrame to an Excel file\n",
    "sample_df.to_excel(file_path, index=False)\n"
   ]
  },
  {
   "cell_type": "code",
   "execution_count": null,
   "id": "606da367",
   "metadata": {},
   "outputs": [],
   "source": [
    "sample_df['predicted_fraud_xgb'].value_counts()"
   ]
  },
  {
   "cell_type": "code",
   "execution_count": null,
   "id": "75806598",
   "metadata": {},
   "outputs": [],
   "source": [
    "sample_df['fraud'].value_counts()"
   ]
  }
 ],
 "metadata": {
  "kernelspec": {
   "display_name": "Python 3 (ipykernel)",
   "language": "python",
   "name": "python3"
  },
  "language_info": {
   "codemirror_mode": {
    "name": "ipython",
    "version": 3
   },
   "file_extension": ".py",
   "mimetype": "text/x-python",
   "name": "python",
   "nbconvert_exporter": "python",
   "pygments_lexer": "ipython3",
   "version": "3.9.12"
  }
 },
 "nbformat": 4,
 "nbformat_minor": 5
}
